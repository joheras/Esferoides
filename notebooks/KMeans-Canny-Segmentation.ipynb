{
 "cells": [
  {
   "cell_type": "code",
   "execution_count": null,
   "metadata": {},
   "outputs": [],
   "source": [
    "import cv2\n",
    "import numpy as np\n",
    "import os\n",
    "from imutils import paths\n",
    "from nd2reader import ND2Reader"
   ]
  },
  {
   "cell_type": "markdown",
   "metadata": {},
   "source": [
    "# K-means\n",
    "\n",
    "First, we define the path where the images are located and where the segmentation of those images will be saved. In addition, we have to specify the extension of the images.  "
   ]
  },
  {
   "cell_type": "code",
   "execution_count": null,
   "metadata": {},
   "outputs": [],
   "source": [
    "path = 'NuevasHector/images/Experiment0/'\n",
    "outputPath = 'NuevasHector/kmeans/'\n",
    "os.makedirs(outputPath,exist_ok=True)\n",
    "ext = '.tif'"
   ]
  },
  {
   "cell_type": "markdown",
   "metadata": {},
   "source": [
    "The following code perform the segmentation process using the K-means algorithm. "
   ]
  },
  {
   "cell_type": "code",
   "execution_count": null,
   "metadata": {},
   "outputs": [],
   "source": [
    "numberOfClusters = 2\n",
    "stopCriteria = (cv2.TERM_CRITERIA_EPS + cv2.TERM_CRITERIA_MAX_ITER, 100, 0.1)\n",
    "\n",
    "for imPath in paths.list_files(path,validExts=ext):\n",
    "    name = imPath[imPath.rfind('/')+1:imPath.rfind('.')]\n",
    "    if(ext=='.nd2'):\n",
    "        originalImage = ND2Reader(imPath)[0]\n",
    "    else:\n",
    "        originalImage = cv2.imread(imPath)\n",
    "\n",
    "    originalImage = cv2.cvtColor(originalImage, cv2.COLOR_BGR2RGB)\n",
    "    reshapedImage = np.float32(originalImage.reshape(-1, 3))\n",
    "    \n",
    "    ret, labels, clusters = cv2.kmeans(reshapedImage, numberOfClusters, None, stopCriteria, 10, cv2.KMEANS_RANDOM_CENTERS)\n",
    "    clusters = np.uint8(clusters)\n",
    "    intermediateImage = clusters[labels.flatten()]\n",
    "    clusteredImage = intermediateImage.reshape((originalImage.shape))\n",
    "    cv2.imwrite(outputPath+name+'.jpg', clusteredImage)"
   ]
  },
  {
   "cell_type": "markdown",
   "metadata": {},
   "source": [
    "# Canny segmentation\n",
    "\n",
    "The structure is the same as the K-means method. "
   ]
  },
  {
   "cell_type": "code",
   "execution_count": null,
   "metadata": {},
   "outputs": [],
   "source": [
    "path = 'NuevasHector/images/Experiment0/'\n",
    "outputPath = 'NuevasHector/canny/'\n",
    "os.makedirs(outputPath,exist_ok=True)\n",
    "ext = '.tif'"
   ]
  },
  {
   "cell_type": "code",
   "execution_count": null,
   "metadata": {},
   "outputs": [],
   "source": [
    "for imPath in paths.list_images(path):\n",
    "    name = imPath[imPath.rfind('/')+1:imPath.rfind('.')]\n",
    "    if(ext=='.nd2'):\n",
    "        originalImage = ND2Reader(imPath)[0]\n",
    "    else:\n",
    "        originalImage = cv2.imread(imPath)\n",
    "    cannyImage = cv2.Canny(originalImage,0,50)\n",
    "    cannyImage = cv2.dilate(cannyImage,(11,11))\n",
    "    cnts,_ = cv2.findContours(cannyImage.copy(), cv2.RETR_EXTERNAL, cv2.CHAIN_APPROX_SIMPLE)\n",
    "    im2 = np.zeros(cannyImage.shape[0:2], dtype = \"uint8\")\n",
    "    cv2.fillPoly(im2,cnts,255)\n",
    "    cv2.imwrite(outputPath+name+'.jpg', im2)"
   ]
  }
 ],
 "metadata": {
  "kernelspec": {
   "display_name": "Python 3",
   "language": "python",
   "name": "python3"
  },
  "language_info": {
   "codemirror_mode": {
    "name": "ipython",
    "version": 3
   },
   "file_extension": ".py",
   "mimetype": "text/x-python",
   "name": "python",
   "nbconvert_exporter": "python",
   "pygments_lexer": "ipython3",
   "version": "3.6.7"
  }
 },
 "nbformat": 4,
 "nbformat_minor": 2
}
